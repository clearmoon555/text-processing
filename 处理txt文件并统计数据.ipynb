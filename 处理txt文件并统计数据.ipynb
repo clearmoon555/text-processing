{
  "nbformat": 4,
  "nbformat_minor": 0,
  "metadata": {
    "colab": {
      "provenance": [],
      "authorship_tag": "ABX9TyOBmFeeUTgt6lPiJOq9zqFf",
      "include_colab_link": true
    },
    "kernelspec": {
      "name": "python3",
      "display_name": "Python 3"
    },
    "language_info": {
      "name": "python"
    }
  },
  "cells": [
    {
      "cell_type": "markdown",
      "metadata": {
        "id": "view-in-github",
        "colab_type": "text"
      },
      "source": [
        "<a href=\"https://colab.research.google.com/github/clearmoon555/text-processing/blob/main/%E5%A4%84%E7%90%86txt%E6%96%87%E4%BB%B6%E5%B9%B6%E7%BB%9F%E8%AE%A1%E6%95%B0%E6%8D%AE.ipynb\" target=\"_parent\"><img src=\"https://colab.research.google.com/assets/colab-badge.svg\" alt=\"Open In Colab\"/></a>"
      ]
    },
    {
      "cell_type": "code",
      "execution_count": null,
      "metadata": {
        "id": "SZE332x38U9z"
      },
      "outputs": [],
      "source": [
        "import chardet\n",
        "import re\n",
        "import pandas as pd\n",
        "def read_time_machine():\n",
        "    with open(r\"/content/sample_data/统计作业数据1 (1).txt\", 'rb') as f:\n",
        "        data = f.read()\n",
        "        encoding = chardet.detect(data)['encoding']\n",
        "\n",
        "    with open(r\"/content/sample_data/统计作业数据1 (1).txt\", 'r', encoding=encoding) as f:\n",
        "        lines = f.readlines()\n",
        "    return [re.sub('[^A-Za-z]+', ' ', line).strip().lower() for line in lines]\n",
        "\n",
        "lines = read_time_machine()\n",
        "\n",
        "def tokenize(lines, token='word'):\n",
        "    \"\"\"将文本行拆分为单词或字符词元\"\"\"\n",
        "    if token == 'word':\n",
        "        return [line.split() for line in lines]\n",
        "    elif token == 'char':\n",
        "        return [list(line) for line in lines]\n",
        "    else:\n",
        "        print('错误：未知词元类型：' + token)\n",
        "\n",
        "tokens = tokenize(lines)\n",
        "\n",
        "# 使用列表推导式将嵌套的 tokens 列表展开成一个单一的列表\n",
        "flattened_tokens = [token for line_tokens in tokens for token in line_tokens]\n",
        "\n",
        "def tongji(step,my_list):\n",
        "  data = {}\n",
        "  num = 0\n",
        "  for item in my_list:\n",
        "    if len(item)<step:\n",
        "      continue\n",
        "    for i in range(0,len(item)-step):\n",
        "      num+=1\n",
        "      key = item[i:i+step]\n",
        "      if key in data:\n",
        "        data[key] += 1\n",
        "      else:\n",
        "        data[key] = 1\n",
        "    data[\"num\"] = num\n",
        "  return data\n"
      ]
    },
    {
      "cell_type": "code",
      "source": [
        "Series_1 = pd.Series(tongji(1,flattened_tokens)).sort_values()\n",
        "print(Series_1)"
      ],
      "metadata": {
        "colab": {
          "base_uri": "https://localhost:8080/"
        },
        "id": "58qgTdCNQ9R8",
        "outputId": "bbc75884-54e1-4061-a0f4-46332030063f"
      },
      "execution_count": null,
      "outputs": [
        {
          "output_type": "stream",
          "name": "stdout",
          "text": [
            "z         417\n",
            "q        1077\n",
            "x        1196\n",
            "j        1349\n",
            "k        4764\n",
            "y        7173\n",
            "v        9010\n",
            "g       11558\n",
            "b       13081\n",
            "f       13108\n",
            "p       13703\n",
            "d       14691\n",
            "w       19201\n",
            "m       21442\n",
            "c       21655\n",
            "u       23763\n",
            "l       32263\n",
            "s       37626\n",
            "r       41707\n",
            "n       48849\n",
            "h       49261\n",
            "t       56603\n",
            "i       58628\n",
            "o       61505\n",
            "a       68459\n",
            "e       76244\n",
            "num    708333\n",
            "dtype: int64\n"
          ]
        }
      ]
    },
    {
      "cell_type": "code",
      "source": [
        "Series_2 = pd.Series(Series_1.values/Series_1[\"num\"],Series_1.index)\n",
        "print(Series_2)"
      ],
      "metadata": {
        "colab": {
          "base_uri": "https://localhost:8080/"
        },
        "id": "rAvW5rzdRm2J",
        "outputId": "4d9b82c2-c122-410f-925f-4d59ff44d1a5"
      },
      "execution_count": null,
      "outputs": [
        {
          "output_type": "stream",
          "name": "stdout",
          "text": [
            "z      0.000589\n",
            "q      0.001520\n",
            "x      0.001688\n",
            "j      0.001904\n",
            "k      0.006726\n",
            "y      0.010127\n",
            "v      0.012720\n",
            "g      0.016317\n",
            "b      0.018467\n",
            "f      0.018505\n",
            "p      0.019345\n",
            "d      0.020740\n",
            "w      0.027107\n",
            "m      0.030271\n",
            "c      0.030572\n",
            "u      0.033548\n",
            "l      0.045548\n",
            "s      0.053119\n",
            "r      0.058880\n",
            "n      0.068963\n",
            "h      0.069545\n",
            "t      0.079910\n",
            "i      0.082769\n",
            "o      0.086831\n",
            "a      0.096648\n",
            "e      0.107639\n",
            "num    1.000000\n",
            "dtype: float64\n"
          ]
        }
      ]
    },
    {
      "cell_type": "code",
      "source": [
        "data = pd.DataFrame({\"pinshu\":Series_1,\"pinlv\":Series_2})\n",
        "print(data)"
      ],
      "metadata": {
        "colab": {
          "base_uri": "https://localhost:8080/"
        },
        "id": "QVsRyOyZSM68",
        "outputId": "5747af49-191a-43ae-8106-3137ab5689c4"
      },
      "execution_count": null,
      "outputs": [
        {
          "output_type": "stream",
          "name": "stdout",
          "text": [
            "     pinshu     pinlv\n",
            "z       417  0.000589\n",
            "q      1077  0.001520\n",
            "x      1196  0.001688\n",
            "j      1349  0.001904\n",
            "k      4764  0.006726\n",
            "y      7173  0.010127\n",
            "v      9010  0.012720\n",
            "g     11558  0.016317\n",
            "b     13081  0.018467\n",
            "f     13108  0.018505\n",
            "p     13703  0.019345\n",
            "d     14691  0.020740\n",
            "w     19201  0.027107\n",
            "m     21442  0.030271\n",
            "c     21655  0.030572\n",
            "u     23763  0.033548\n",
            "l     32263  0.045548\n",
            "s     37626  0.053119\n",
            "r     41707  0.058880\n",
            "n     48849  0.068963\n",
            "h     49261  0.069545\n",
            "t     56603  0.079910\n",
            "i     58628  0.082769\n",
            "o     61505  0.086831\n",
            "a     68459  0.096648\n",
            "e     76244  0.107639\n",
            "num  708333  1.000000\n"
          ]
        }
      ]
    },
    {
      "cell_type": "code",
      "source": [
        "Series_1 = pd.Series(tongji(2,flattened_tokens)).sort_values()\n",
        "#print(Series_1)\n",
        "Series_2 = pd.Series(Series_1.values/Series_1[\"num\"],Series_1.index)\n",
        "#print(Series_2)\n",
        "data = pd.DataFrame({\"pinshu\":Series_1,\"pinlv\":Series_2})\n",
        "print(data)"
      ],
      "metadata": {
        "colab": {
          "base_uri": "https://localhost:8080/"
        },
        "id": "5RfBJIAlt6Pi",
        "outputId": "2d68c867-db1d-42a9-d07b-f4516134ec59"
      },
      "execution_count": null,
      "outputs": [
        {
          "output_type": "stream",
          "name": "stdout",
          "text": [
            "     pinshu     pinlv\n",
            "zj        1  0.000002\n",
            "xg        1  0.000002\n",
            "zb        1  0.000002\n",
            "iw        1  0.000002\n",
            "yd        1  0.000002\n",
            "..      ...       ...\n",
            "he    10461  0.020930\n",
            "in    11777  0.023563\n",
            "an    13847  0.027705\n",
            "th    20260  0.040535\n",
            "num  499809  1.000000\n",
            "\n",
            "[484 rows x 2 columns]\n"
          ]
        }
      ]
    }
  ]
}